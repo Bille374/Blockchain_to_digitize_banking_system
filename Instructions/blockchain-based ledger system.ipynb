{
 "cells": [
  {
   "cell_type": "markdown",
   "id": "02592400",
   "metadata": {},
   "source": [
    "# Pychain Ledger"
   ]
  },
  {
   "cell_type": "code",
   "execution_count": 2,
   "id": "90cba5c2",
   "metadata": {},
   "outputs": [],
   "source": [
    "# Imports\n",
    "import streamlit as st\n",
    "from dataclasses import dataclass\n",
    "from typing import Any, List\n",
    "import datetime as datetime\n",
    "import pandas as pd\n",
    "import hashlib"
   ]
  },
  {
   "cell_type": "markdown",
   "id": "7c22bce6",
   "metadata": {},
   "source": [
    "# Creating First Block"
   ]
  },
  {
   "cell_type": "code",
   "execution_count": 11,
   "id": "240f7591",
   "metadata": {},
   "outputs": [],
   "source": [
    "@dataclass\n",
    "class Record:\n",
    "    sender: str\n",
    "    receiver: str\n",
    "    amount: float\n",
    "    "
   ]
  },
  {
   "cell_type": "code",
   "execution_count": 13,
   "id": "b9f48ea9",
   "metadata": {},
   "outputs": [
    {
     "data": {
      "text/plain": [
       "Record(sender=1, receiver=1, amount=1000)"
      ]
     },
     "execution_count": 13,
     "metadata": {},
     "output_type": "execute_result"
    }
   ],
   "source": [
    "Record(sender=1, receiver=1, amount=1000)"
   ]
  },
  {
   "cell_type": "code",
   "execution_count": 14,
   "id": "1bc9e8c3",
   "metadata": {},
   "outputs": [],
   "source": [
    "record = Record(sender=1, receiver=1, amount=1000)"
   ]
  },
  {
   "cell_type": "markdown",
   "id": "6ca1ac8f",
   "metadata": {},
   "source": [
    "# Crteating hashing function"
   ]
  },
  {
   "cell_type": "code",
   "execution_count": 16,
   "id": "1cd816ec",
   "metadata": {},
   "outputs": [],
   "source": [
    "@dataclass\n",
    "class Block:\n",
    "\n",
    "    # @TODO\n",
    "    # Rename the `data` attribute to `record`, and set the data type to `Record`\n",
    "    record: Record\n",
    "    data: Any\n",
    "    creator_id: int    \n",
    "    prev_hash: str = \"0\"\n",
    "    timestamp: str = datetime.datetime.utcnow().strftime(\"%H:%M:%S\")\n",
    "    nonce: int = 0\n",
    "\n",
    "    def hash_block(self):\n",
    "        sha = hashlib.sha256()\n",
    "\n",
    "        record = str(self.record).encode()\n",
    "        sha.update(record)\n",
    "\n",
    "        creator_id = str(self.creator_id).encode()\n",
    "        sha.update(creator_id)\n",
    "\n",
    "        timestamp = str(self.timestamp).encode()\n",
    "        sha.update(timestamp)\n",
    "\n",
    "        prev_hash = str(self.prev_hash).encode()\n",
    "        sha.update(prev_hash)\n",
    "\n",
    "        nonce = str(self.nonce).encode()\n",
    "        sha.update(nonce)\n",
    "\n",
    "        return sha.hexdigest()"
   ]
  },
  {
   "cell_type": "markdown",
   "id": "c371c93f",
   "metadata": {},
   "source": [
    "# Creating a chain class"
   ]
  },
  {
   "cell_type": "code",
   "execution_count": 17,
   "id": "a3e18004",
   "metadata": {},
   "outputs": [],
   "source": [
    "@dataclass\n",
    "class PyChain:\n",
    "    chain: List[Block]\n",
    "    difficulty: int = 4\n",
    "\n",
    "    def proof_of_work(self, block):\n",
    "\n",
    "        calculated_hash = block.hash_block()\n",
    "\n",
    "        num_of_zeros = \"0\" * self.difficulty\n",
    "\n",
    "        while not calculated_hash.startswith(num_of_zeros):\n",
    "\n",
    "            block.nonce += 1\n",
    "\n",
    "            calculated_hash = block.hash_block()\n",
    "\n",
    "        print(\"Wining Hash\", calculated_hash)\n",
    "        return block\n",
    "\n",
    "    def add_block(self, candidate_block):\n",
    "        block = self.proof_of_work(candidate_block)\n",
    "        self.chain += [block]\n",
    "\n",
    "    def is_valid(self):\n",
    "        block_hash = self.chain[0].hash_block()\n",
    "\n",
    "        for block in self.chain[1:]:\n",
    "            if block_hash != block.prev_hash:\n",
    "                print(\"Blockchain is invalid!\")\n",
    "                return False\n",
    "\n",
    "            block_hash = block.hash_block()\n",
    "\n",
    "        print(\"Blockchain is Valid\")\n",
    "        return True"
   ]
  },
  {
   "cell_type": "code",
   "execution_count": 20,
   "id": "3395e1dc",
   "metadata": {},
   "outputs": [],
   "source": [
    "def setup():\n",
    "    print(\"Initializing Chain\")\n",
    "    return PyChain([Block(\"Genesis\", 0,creator_id=0])"
   ]
  },
  {
   "cell_type": "code",
   "execution_count": 21,
   "id": "c94c42ac",
   "metadata": {},
   "outputs": [
    {
     "name": "stdout",
     "output_type": "stream",
     "text": [
      "Initializing Chain\n"
     ]
    },
    {
     "data": {
      "text/plain": [
       "PyChain(chain=[Block(record='Genesis', data=0, creator_id=24, prev_hash='0', timestamp='17:27:21', nonce=0)], difficulty=4)"
      ]
     },
     "execution_count": 21,
     "metadata": {},
     "output_type": "execute_result"
    }
   ],
   "source": [
    "setup()"
   ]
  },
  {
   "cell_type": "code",
   "execution_count": 22,
   "id": "6c224bf0",
   "metadata": {},
   "outputs": [
    {
     "name": "stdout",
     "output_type": "stream",
     "text": [
      "Initializing Chain\n"
     ]
    }
   ],
   "source": [
    "pychain = setup()"
   ]
  },
  {
   "cell_type": "code",
   "execution_count": 26,
   "id": "87aafda8",
   "metadata": {},
   "outputs": [
    {
     "data": {
      "text/plain": [
       "Block(record='Genesis', data=0, creator_id=24, prev_hash='0', timestamp='17:27:21', nonce=0)"
      ]
     },
     "execution_count": 26,
     "metadata": {},
     "output_type": "execute_result"
    }
   ],
   "source": [
    "pychain.chain[-1]"
   ]
  },
  {
   "cell_type": "code",
   "execution_count": 44,
   "id": "8021440a",
   "metadata": {},
   "outputs": [],
   "source": [
    "prev_block = pychain.chain[-1]"
   ]
  },
  {
   "cell_type": "code",
   "execution_count": 45,
   "id": "5b2d9f37",
   "metadata": {},
   "outputs": [],
   "source": [
    "prev_block_hash = prev_block.hash_block()"
   ]
  },
  {
   "cell_type": "code",
   "execution_count": 47,
   "id": "80c85345",
   "metadata": {},
   "outputs": [],
   "source": [
    "prev_hash=prev_block_hash"
   ]
  },
  {
   "cell_type": "code",
   "execution_count": 54,
   "id": "4f473372",
   "metadata": {},
   "outputs": [],
   "source": [
    "if st.button(\"Add Block\"):\n",
    "    prev_block = pychain.chain[-1]\n",
    "    prev_block_hash = prev_block.hash_block()\n",
    "    \n",
    "    \n",
    "    \n",
    "    new_block = Block(record = Record(sender=1, receiver=1, amount=1000),\n",
    "                      data = 1,\n",
    "                      creator_id=42,\n",
    "                     prev_hash=prev_block_hash)\n",
    "    pychain.add_block(new_block)\n",
    "    st.balloons()\n",
    "    "
   ]
  },
  {
   "cell_type": "code",
   "execution_count": 58,
   "id": "7020c06d",
   "metadata": {},
   "outputs": [
    {
     "data": {
      "text/plain": [
       "Block(record=Record(sender=1, receiver=1, amount=1000), data=1, creator_id=42, prev_hash='0590f65598c731f44fabd75cf5be01b4ca6ce1dacbd1ada431f507e125f069ce', timestamp='17:27:21', nonce=0)"
      ]
     },
     "execution_count": 58,
     "metadata": {},
     "output_type": "execute_result"
    }
   ],
   "source": [
    "Block(record = Record(sender=1, receiver=1, amount=1000),\n",
    "                      data = 1,\n",
    "                      creator_id=42,\n",
    "                     prev_hash=prev_block_hash)"
   ]
  },
  {
   "cell_type": "code",
   "execution_count": 59,
   "id": "685556fb",
   "metadata": {},
   "outputs": [],
   "source": [
    "new_block = Block(record = Record(sender=1, receiver=1, amount=1000),\n",
    "                      data = 1,\n",
    "                      creator_id=42,\n",
    "                     prev_hash=prev_block_hash)"
   ]
  },
  {
   "cell_type": "code",
   "execution_count": 60,
   "id": "07e71fe5",
   "metadata": {},
   "outputs": [
    {
     "name": "stdout",
     "output_type": "stream",
     "text": [
      "Wining Hash 000047c1fb4ddb417d98cbd1cb6aa0f393719f5829cd446b8a025a3acc6d4dd1\n"
     ]
    }
   ],
   "source": [
    "pychain.add_block(new_block)"
   ]
  },
  {
   "cell_type": "code",
   "execution_count": 61,
   "id": "2549a603",
   "metadata": {},
   "outputs": [
    {
     "data": {
      "text/plain": [
       "DeltaGenerator(_root_container=0, _provided_cursor=None, _parent=None, _block_type=None, _form_data=None)"
      ]
     },
     "execution_count": 61,
     "metadata": {},
     "output_type": "execute_result"
    }
   ],
   "source": [
    "st.balloons()"
   ]
  },
  {
   "cell_type": "code",
   "execution_count": 62,
   "id": "c98e7671",
   "metadata": {},
   "outputs": [
    {
     "data": {
      "text/html": [
       "<div>\n",
       "<style scoped>\n",
       "    .dataframe tbody tr th:only-of-type {\n",
       "        vertical-align: middle;\n",
       "    }\n",
       "\n",
       "    .dataframe tbody tr th {\n",
       "        vertical-align: top;\n",
       "    }\n",
       "\n",
       "    .dataframe thead th {\n",
       "        text-align: right;\n",
       "    }\n",
       "</style>\n",
       "<table border=\"1\" class=\"dataframe\">\n",
       "  <thead>\n",
       "    <tr style=\"text-align: right;\">\n",
       "      <th></th>\n",
       "      <th>record</th>\n",
       "      <th>data</th>\n",
       "      <th>creator_id</th>\n",
       "      <th>prev_hash</th>\n",
       "      <th>timestamp</th>\n",
       "      <th>nonce</th>\n",
       "    </tr>\n",
       "  </thead>\n",
       "  <tbody>\n",
       "    <tr>\n",
       "      <th>0</th>\n",
       "      <td>Genesis</td>\n",
       "      <td>0</td>\n",
       "      <td>24</td>\n",
       "      <td>0</td>\n",
       "      <td>17:27:21</td>\n",
       "      <td>0</td>\n",
       "    </tr>\n",
       "    <tr>\n",
       "      <th>1</th>\n",
       "      <td>{'sender': 1, 'receiver': 1, 'amount': 1000}</td>\n",
       "      <td>1</td>\n",
       "      <td>42</td>\n",
       "      <td>0590f65598c731f44fabd75cf5be01b4ca6ce1dacbd1ad...</td>\n",
       "      <td>17:27:21</td>\n",
       "      <td>59634</td>\n",
       "    </tr>\n",
       "  </tbody>\n",
       "</table>\n",
       "</div>"
      ],
      "text/plain": [
       "                                         record data creator_id  \\\n",
       "0                                       Genesis    0         24   \n",
       "1  {'sender': 1, 'receiver': 1, 'amount': 1000}    1         42   \n",
       "\n",
       "                                           prev_hash timestamp  nonce  \n",
       "0                                                  0  17:27:21      0  \n",
       "1  0590f65598c731f44fabd75cf5be01b4ca6ce1dacbd1ad...  17:27:21  59634  "
      ]
     },
     "execution_count": 62,
     "metadata": {},
     "output_type": "execute_result"
    }
   ],
   "source": [
    "pd.DataFrame(pychain.chain).astype(str)"
   ]
  },
  {
   "cell_type": "code",
   "execution_count": 63,
   "id": "ba2b3517",
   "metadata": {},
   "outputs": [],
   "source": [
    "pychain_df = pd.DataFrame(pychain.chain).astype(str)\n"
   ]
  },
  {
   "cell_type": "code",
   "execution_count": 65,
   "id": "1cd5b91f",
   "metadata": {},
   "outputs": [
    {
     "data": {
      "text/html": [
       "<div>\n",
       "<style scoped>\n",
       "    .dataframe tbody tr th:only-of-type {\n",
       "        vertical-align: middle;\n",
       "    }\n",
       "\n",
       "    .dataframe tbody tr th {\n",
       "        vertical-align: top;\n",
       "    }\n",
       "\n",
       "    .dataframe thead th {\n",
       "        text-align: right;\n",
       "    }\n",
       "</style>\n",
       "<table border=\"1\" class=\"dataframe\">\n",
       "  <thead>\n",
       "    <tr style=\"text-align: right;\">\n",
       "      <th></th>\n",
       "      <th>record</th>\n",
       "      <th>data</th>\n",
       "      <th>creator_id</th>\n",
       "      <th>prev_hash</th>\n",
       "      <th>timestamp</th>\n",
       "      <th>nonce</th>\n",
       "    </tr>\n",
       "  </thead>\n",
       "  <tbody>\n",
       "    <tr>\n",
       "      <th>0</th>\n",
       "      <td>Genesis</td>\n",
       "      <td>0</td>\n",
       "      <td>24</td>\n",
       "      <td>0</td>\n",
       "      <td>17:27:21</td>\n",
       "      <td>0</td>\n",
       "    </tr>\n",
       "    <tr>\n",
       "      <th>1</th>\n",
       "      <td>{'sender': 1, 'receiver': 1, 'amount': 1000}</td>\n",
       "      <td>1</td>\n",
       "      <td>42</td>\n",
       "      <td>0590f65598c731f44fabd75cf5be01b4ca6ce1dacbd1ad...</td>\n",
       "      <td>17:27:21</td>\n",
       "      <td>59634</td>\n",
       "    </tr>\n",
       "  </tbody>\n",
       "</table>\n",
       "</div>"
      ],
      "text/plain": [
       "                                         record data creator_id  \\\n",
       "0                                       Genesis    0         24   \n",
       "1  {'sender': 1, 'receiver': 1, 'amount': 1000}    1         42   \n",
       "\n",
       "                                           prev_hash timestamp  nonce  \n",
       "0                                                  0  17:27:21      0  \n",
       "1  0590f65598c731f44fabd75cf5be01b4ca6ce1dacbd1ad...  17:27:21  59634  "
      ]
     },
     "execution_count": 65,
     "metadata": {},
     "output_type": "execute_result"
    }
   ],
   "source": [
    "pychain_df"
   ]
  },
  {
   "cell_type": "code",
   "execution_count": null,
   "id": "608af084",
   "metadata": {},
   "outputs": [],
   "source": []
  }
 ],
 "metadata": {
  "kernelspec": {
   "display_name": "Python 3 (ipykernel)",
   "language": "python",
   "name": "python3"
  },
  "language_info": {
   "codemirror_mode": {
    "name": "ipython",
    "version": 3
   },
   "file_extension": ".py",
   "mimetype": "text/x-python",
   "name": "python",
   "nbconvert_exporter": "python",
   "pygments_lexer": "ipython3",
   "version": "3.9.12"
  }
 },
 "nbformat": 4,
 "nbformat_minor": 5
}
